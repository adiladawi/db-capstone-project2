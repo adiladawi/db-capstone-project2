{
 "cells": [
  {
   "cell_type": "code",
   "execution_count": 1,
   "id": "27855875-088b-4951-8c70-dda75dfceb3c",
   "metadata": {
    "tags": []
   },
   "outputs": [],
   "source": [
    "import mysql.connector as connector"
   ]
  },
  {
   "cell_type": "code",
   "execution_count": null,
   "id": "9f48ddea-bc42-48c9-bdb0-8bf9acc13474",
   "metadata": {},
   "outputs": [],
   "source": [
    "connection = connector.connect(host='localhost',user = \"username\",\n",
    "                               password = \"password\", db = \"database\") "
   ]
  },
  {
   "cell_type": "code",
   "execution_count": null,
   "id": "f3249b7d-18db-4a2f-844d-34d7705c4974",
   "metadata": {},
   "outputs": [],
   "source": [
    "cursor = connection.cursor()"
   ]
  },
  {
   "cell_type": "code",
   "execution_count": null,
   "id": "f8cfaadc-24e8-4272-9491-5e72706fc6d0",
   "metadata": {},
   "outputs": [],
   "source": [
    "show_tables_query = \"SHOW tables\" \n",
    "cursor.execute(show_tables_query)"
   ]
  },
  {
   "cell_type": "code",
   "execution_count": null,
   "id": "21f9300b-4306-4e09-b777-e49ea3e39f2e",
   "metadata": {},
   "outputs": [],
   "source": [
    "results = cursor.fetchall()"
   ]
  },
  {
   "cell_type": "code",
   "execution_count": null,
   "id": "bd2708c2-1aed-46df-bfa3-84b8fc1078c3",
   "metadata": {},
   "outputs": [],
   "source": [
    "print(results)"
   ]
  },
  {
   "cell_type": "code",
   "execution_count": null,
   "id": "edefe0a7-5b3d-4c15-86c2-2f138c4a2697",
   "metadata": {},
   "outputs": [],
   "source": [
    "stmnt = '''\n",
    "SELECT CustomerName, ContactNumber, Email\n",
    "FROM Customers INNER JOIN ORDERS\n",
    "ON Customers.CustomerID = Orders.CustomerID\n",
    "WHERE TotalCost > 60;\n",
    "'''"
   ]
  },
  {
   "cell_type": "code",
   "execution_count": null,
   "id": "6c1d46f3-34f4-46e4-b188-15eaa2e98945",
   "metadata": {},
   "outputs": [],
   "source": [
    "cursor.execute(stmnt)"
   ]
  },
  {
   "cell_type": "code",
   "execution_count": null,
   "id": "ff3d6aa9-1422-4896-b107-d8848724543e",
   "metadata": {},
   "outputs": [],
   "source": [
    "print(\"The full names and contact details of customers who had placed an order of greater than $60 are:\")\n",
    "print(cursor.column_names)\n",
    "for result in cursor.fetchall():\n",
    "    print(result)"
   ]
  },
  {
   "cell_type": "code",
   "execution_count": null,
   "id": "61f9a254-9146-4af2-a769-bd3b69dabc20",
   "metadata": {},
   "outputs": [],
   "source": [
    "cursor.close()"
   ]
  },
  {
   "cell_type": "code",
   "execution_count": null,
   "id": "ad71f6ba-03ae-4d5d-82bf-f2f3083f8900",
   "metadata": {},
   "outputs": [],
   "source": [
    "connection.close()"
   ]
  }
 ],
 "metadata": {
  "kernelspec": {
   "display_name": "Python 3 (ipykernel)",
   "language": "python",
   "name": "python3"
  },
  "language_info": {
   "codemirror_mode": {
    "name": "ipython",
    "version": 3
   },
   "file_extension": ".py",
   "mimetype": "text/x-python",
   "name": "python",
   "nbconvert_exporter": "python",
   "pygments_lexer": "ipython3",
   "version": "3.10.8"
  }
 },
 "nbformat": 4,
 "nbformat_minor": 5
}
